{
 "cells": [
  {
   "cell_type": "markdown",
   "id": "3f917da9-75a0-4dac-b89d-e493f1b514e9",
   "metadata": {},
   "source": [
    "# Data Analyst Capstone "
   ]
  },
  {
   "cell_type": "code",
   "execution_count": 1,
   "id": "b8d2aac3-e84f-4c53-b5ab-eb26f9dbdd2c",
   "metadata": {},
   "outputs": [
    {
     "name": "stdout",
     "output_type": "stream",
     "text": [
      "All library imported\n"
     ]
    }
   ],
   "source": [
    "# import library\n",
    "import pandas as pd\n",
    "import numpy as np\n",
    "import matplotlib.pyplot as plt\n",
    "import seaborn as sns\n",
    "print('All library imported')"
   ]
  },
  {
   "cell_type": "code",
   "execution_count": 2,
   "id": "41524023-eb04-441d-8a9d-119f4c101468",
   "metadata": {},
   "outputs": [
    {
     "name": "stdout",
     "output_type": "stream",
     "text": [
      "Data loaded\n"
     ]
    }
   ],
   "source": [
    "# import dataset\n",
    "df=pd.read_excel('data.xlsx')\n",
    "print('Data loaded')"
   ]
  },
  {
   "cell_type": "code",
   "execution_count": 4,
   "id": "a6ad7653-b80d-4157-ab7c-1afeff62c6ca",
   "metadata": {},
   "outputs": [
    {
     "data": {
      "text/html": [
       "<div>\n",
       "<style scoped>\n",
       "    .dataframe tbody tr th:only-of-type {\n",
       "        vertical-align: middle;\n",
       "    }\n",
       "\n",
       "    .dataframe tbody tr th {\n",
       "        vertical-align: top;\n",
       "    }\n",
       "\n",
       "    .dataframe thead th {\n",
       "        text-align: right;\n",
       "    }\n",
       "</style>\n",
       "<table border=\"1\" class=\"dataframe\">\n",
       "  <thead>\n",
       "    <tr style=\"text-align: right;\">\n",
       "      <th></th>\n",
       "      <th>Restaurant ID</th>\n",
       "      <th>Restaurant Name</th>\n",
       "      <th>Country Code</th>\n",
       "      <th>City</th>\n",
       "      <th>Address</th>\n",
       "      <th>Locality</th>\n",
       "      <th>Locality Verbose</th>\n",
       "      <th>Longitude</th>\n",
       "      <th>Latitude</th>\n",
       "      <th>Cuisines</th>\n",
       "      <th>Average Cost for two</th>\n",
       "      <th>Currency</th>\n",
       "      <th>Has Table booking</th>\n",
       "      <th>Has Online delivery</th>\n",
       "      <th>Price range</th>\n",
       "      <th>Aggregate rating</th>\n",
       "      <th>Rating color</th>\n",
       "      <th>Rating text</th>\n",
       "      <th>Votes</th>\n",
       "    </tr>\n",
       "  </thead>\n",
       "  <tbody>\n",
       "    <tr>\n",
       "      <th>0</th>\n",
       "      <td>7402935</td>\n",
       "      <td>Skye</td>\n",
       "      <td>94</td>\n",
       "      <td>Jakarta</td>\n",
       "      <td>Menara BCA, Lantai 56, Jl. MH. Thamrin, Thamri...</td>\n",
       "      <td>Grand Indonesia Mall, Thamrin</td>\n",
       "      <td>Grand Indonesia Mall, Thamrin, Jakarta</td>\n",
       "      <td>106.821999</td>\n",
       "      <td>-6.196778</td>\n",
       "      <td>Italian, Continental</td>\n",
       "      <td>800000</td>\n",
       "      <td>Indonesian Rupiah(IDR)</td>\n",
       "      <td>No</td>\n",
       "      <td>No</td>\n",
       "      <td>3</td>\n",
       "      <td>4.1</td>\n",
       "      <td>Green</td>\n",
       "      <td>Very Good</td>\n",
       "      <td>1498</td>\n",
       "    </tr>\n",
       "    <tr>\n",
       "      <th>1</th>\n",
       "      <td>7410290</td>\n",
       "      <td>Satoo - Hotel Shangri-La</td>\n",
       "      <td>94</td>\n",
       "      <td>Jakarta</td>\n",
       "      <td>Hotel Shangri-La, Jl. Jend. Sudirman</td>\n",
       "      <td>Hotel Shangri-La, Sudirman</td>\n",
       "      <td>Hotel Shangri-La, Sudirman, Jakarta</td>\n",
       "      <td>106.818961</td>\n",
       "      <td>-6.203292</td>\n",
       "      <td>Asian, Indonesian, Western</td>\n",
       "      <td>800000</td>\n",
       "      <td>Indonesian Rupiah(IDR)</td>\n",
       "      <td>No</td>\n",
       "      <td>No</td>\n",
       "      <td>3</td>\n",
       "      <td>4.6</td>\n",
       "      <td>Dark Green</td>\n",
       "      <td>Excellent</td>\n",
       "      <td>873</td>\n",
       "    </tr>\n",
       "    <tr>\n",
       "      <th>2</th>\n",
       "      <td>7420899</td>\n",
       "      <td>Sushi Masa</td>\n",
       "      <td>94</td>\n",
       "      <td>Jakarta</td>\n",
       "      <td>Jl. Tuna Raya No. 5, Penjaringan</td>\n",
       "      <td>Penjaringan</td>\n",
       "      <td>Penjaringan, Jakarta</td>\n",
       "      <td>106.800144</td>\n",
       "      <td>-6.101298</td>\n",
       "      <td>Sushi, Japanese</td>\n",
       "      <td>500000</td>\n",
       "      <td>Indonesian Rupiah(IDR)</td>\n",
       "      <td>No</td>\n",
       "      <td>No</td>\n",
       "      <td>3</td>\n",
       "      <td>4.9</td>\n",
       "      <td>Dark Green</td>\n",
       "      <td>Excellent</td>\n",
       "      <td>605</td>\n",
       "    </tr>\n",
       "    <tr>\n",
       "      <th>3</th>\n",
       "      <td>7421967</td>\n",
       "      <td>3 Wise Monkeys</td>\n",
       "      <td>94</td>\n",
       "      <td>Jakarta</td>\n",
       "      <td>Jl. Suryo No. 26, Senopati, Jakarta</td>\n",
       "      <td>Senopati</td>\n",
       "      <td>Senopati, Jakarta</td>\n",
       "      <td>106.813400</td>\n",
       "      <td>-6.235241</td>\n",
       "      <td>Japanese</td>\n",
       "      <td>450000</td>\n",
       "      <td>Indonesian Rupiah(IDR)</td>\n",
       "      <td>No</td>\n",
       "      <td>No</td>\n",
       "      <td>3</td>\n",
       "      <td>4.2</td>\n",
       "      <td>Green</td>\n",
       "      <td>Very Good</td>\n",
       "      <td>395</td>\n",
       "    </tr>\n",
       "    <tr>\n",
       "      <th>4</th>\n",
       "      <td>7422489</td>\n",
       "      <td>Avec Moi Restaurant and Bar</td>\n",
       "      <td>94</td>\n",
       "      <td>Jakarta</td>\n",
       "      <td>Gedung PIC, Jl. Teluk Betung 43, Thamrin, Jakarta</td>\n",
       "      <td>Thamrin</td>\n",
       "      <td>Thamrin, Jakarta</td>\n",
       "      <td>106.821023</td>\n",
       "      <td>-6.196270</td>\n",
       "      <td>French, Western</td>\n",
       "      <td>350000</td>\n",
       "      <td>Indonesian Rupiah(IDR)</td>\n",
       "      <td>No</td>\n",
       "      <td>No</td>\n",
       "      <td>3</td>\n",
       "      <td>4.3</td>\n",
       "      <td>Green</td>\n",
       "      <td>Very Good</td>\n",
       "      <td>243</td>\n",
       "    </tr>\n",
       "  </tbody>\n",
       "</table>\n",
       "</div>"
      ],
      "text/plain": [
       "   Restaurant ID              Restaurant Name  Country Code     City  \\\n",
       "0        7402935                         Skye            94  Jakarta   \n",
       "1        7410290     Satoo - Hotel Shangri-La            94  Jakarta   \n",
       "2        7420899                   Sushi Masa            94  Jakarta   \n",
       "3        7421967               3 Wise Monkeys            94  Jakarta   \n",
       "4        7422489  Avec Moi Restaurant and Bar            94  Jakarta   \n",
       "\n",
       "                                             Address  \\\n",
       "0  Menara BCA, Lantai 56, Jl. MH. Thamrin, Thamri...   \n",
       "1               Hotel Shangri-La, Jl. Jend. Sudirman   \n",
       "2                   Jl. Tuna Raya No. 5, Penjaringan   \n",
       "3                Jl. Suryo No. 26, Senopati, Jakarta   \n",
       "4  Gedung PIC, Jl. Teluk Betung 43, Thamrin, Jakarta   \n",
       "\n",
       "                        Locality                        Locality Verbose  \\\n",
       "0  Grand Indonesia Mall, Thamrin  Grand Indonesia Mall, Thamrin, Jakarta   \n",
       "1     Hotel Shangri-La, Sudirman     Hotel Shangri-La, Sudirman, Jakarta   \n",
       "2                    Penjaringan                    Penjaringan, Jakarta   \n",
       "3                       Senopati                       Senopati, Jakarta   \n",
       "4                        Thamrin                        Thamrin, Jakarta   \n",
       "\n",
       "    Longitude  Latitude                    Cuisines  Average Cost for two  \\\n",
       "0  106.821999 -6.196778        Italian, Continental                800000   \n",
       "1  106.818961 -6.203292  Asian, Indonesian, Western                800000   \n",
       "2  106.800144 -6.101298             Sushi, Japanese                500000   \n",
       "3  106.813400 -6.235241                    Japanese                450000   \n",
       "4  106.821023 -6.196270             French, Western                350000   \n",
       "\n",
       "                 Currency Has Table booking Has Online delivery  Price range  \\\n",
       "0  Indonesian Rupiah(IDR)                No                  No            3   \n",
       "1  Indonesian Rupiah(IDR)                No                  No            3   \n",
       "2  Indonesian Rupiah(IDR)                No                  No            3   \n",
       "3  Indonesian Rupiah(IDR)                No                  No            3   \n",
       "4  Indonesian Rupiah(IDR)                No                  No            3   \n",
       "\n",
       "   Aggregate rating Rating color Rating text  Votes  \n",
       "0               4.1        Green   Very Good   1498  \n",
       "1               4.6   Dark Green   Excellent    873  \n",
       "2               4.9   Dark Green   Excellent    605  \n",
       "3               4.2        Green   Very Good    395  \n",
       "4               4.3        Green   Very Good    243  "
      ]
     },
     "execution_count": 4,
     "metadata": {},
     "output_type": "execute_result"
    }
   ],
   "source": [
    "df.head()"
   ]
  },
  {
   "cell_type": "markdown",
   "id": "6fb3160b-39dd-43a8-a6d2-94279ec24e14",
   "metadata": {},
   "source": [
    "# Structure of data"
   ]
  },
  {
   "cell_type": "code",
   "execution_count": 5,
   "id": "a9919e16-01c7-453d-949f-06ec4127e28e",
   "metadata": {},
   "outputs": [
    {
     "name": "stdout",
     "output_type": "stream",
     "text": [
      "<class 'pandas.core.frame.DataFrame'>\n",
      "RangeIndex: 9551 entries, 0 to 9550\n",
      "Data columns (total 19 columns):\n",
      " #   Column                Non-Null Count  Dtype  \n",
      "---  ------                --------------  -----  \n",
      " 0   Restaurant ID         9551 non-null   int64  \n",
      " 1   Restaurant Name       9550 non-null   object \n",
      " 2   Country Code          9551 non-null   int64  \n",
      " 3   City                  9551 non-null   object \n",
      " 4   Address               9551 non-null   object \n",
      " 5   Locality              9551 non-null   object \n",
      " 6   Locality Verbose      9551 non-null   object \n",
      " 7   Longitude             9551 non-null   float64\n",
      " 8   Latitude              9551 non-null   float64\n",
      " 9   Cuisines              9542 non-null   object \n",
      " 10  Average Cost for two  9551 non-null   int64  \n",
      " 11  Currency              9551 non-null   object \n",
      " 12  Has Table booking     9551 non-null   object \n",
      " 13  Has Online delivery   9551 non-null   object \n",
      " 14  Price range           9551 non-null   int64  \n",
      " 15  Aggregate rating      9551 non-null   float64\n",
      " 16  Rating color          9551 non-null   object \n",
      " 17  Rating text           9551 non-null   object \n",
      " 18  Votes                 9551 non-null   int64  \n",
      "dtypes: float64(3), int64(5), object(11)\n",
      "memory usage: 1.4+ MB\n"
     ]
    }
   ],
   "source": [
    "df.info()"
   ]
  },
  {
   "cell_type": "code",
   "execution_count": 6,
   "id": "9aa9ffe9-f330-4a59-82df-94d4e6799f83",
   "metadata": {},
   "outputs": [
    {
     "data": {
      "text/plain": [
       "Restaurant ID           0\n",
       "Restaurant Name         1\n",
       "Country Code            0\n",
       "City                    0\n",
       "Address                 0\n",
       "Locality                0\n",
       "Locality Verbose        0\n",
       "Longitude               0\n",
       "Latitude                0\n",
       "Cuisines                9\n",
       "Average Cost for two    0\n",
       "Currency                0\n",
       "Has Table booking       0\n",
       "Has Online delivery     0\n",
       "Price range             0\n",
       "Aggregate rating        0\n",
       "Rating color            0\n",
       "Rating text             0\n",
       "Votes                   0\n",
       "dtype: int64"
      ]
     },
     "execution_count": 6,
     "metadata": {},
     "output_type": "execute_result"
    }
   ],
   "source": [
    "# missing values\n",
    "df.isnull().sum()"
   ]
  },
  {
   "cell_type": "code",
   "execution_count": 7,
   "id": "b9d22b00-6737-4d7b-9a21-47466ed730f3",
   "metadata": {},
   "outputs": [
    {
     "name": "stdout",
     "output_type": "stream",
     "text": [
      "Missing values dropped\n"
     ]
    }
   ],
   "source": [
    "# drop the missing values\n",
    "df.dropna(inplace=True)\n",
    "print('Missing values dropped')"
   ]
  },
  {
   "cell_type": "code",
   "execution_count": 8,
   "id": "96ebda32-f0b4-4ba1-8791-37a22a640a3d",
   "metadata": {},
   "outputs": [
    {
     "data": {
      "text/plain": [
       "Restaurant ID           0\n",
       "Restaurant Name         0\n",
       "Country Code            0\n",
       "City                    0\n",
       "Address                 0\n",
       "Locality                0\n",
       "Locality Verbose        0\n",
       "Longitude               0\n",
       "Latitude                0\n",
       "Cuisines                0\n",
       "Average Cost for two    0\n",
       "Currency                0\n",
       "Has Table booking       0\n",
       "Has Online delivery     0\n",
       "Price range             0\n",
       "Aggregate rating        0\n",
       "Rating color            0\n",
       "Rating text             0\n",
       "Votes                   0\n",
       "dtype: int64"
      ]
     },
     "execution_count": 8,
     "metadata": {},
     "output_type": "execute_result"
    }
   ],
   "source": [
    "# missing values\n",
    "df.isnull().sum()"
   ]
  },
  {
   "cell_type": "code",
   "execution_count": 9,
   "id": "1fda4643-38fb-4e66-b435-db9e055739f2",
   "metadata": {},
   "outputs": [
    {
     "data": {
      "text/plain": [
       "(9541, 19)"
      ]
     },
     "execution_count": 9,
     "metadata": {},
     "output_type": "execute_result"
    }
   ],
   "source": [
    "df.shape"
   ]
  },
  {
   "cell_type": "code",
   "execution_count": 10,
   "id": "9b331d4c-b89a-4da5-a2f0-91ffdd39805a",
   "metadata": {},
   "outputs": [
    {
     "data": {
      "text/plain": [
       "0"
      ]
     },
     "execution_count": 10,
     "metadata": {},
     "output_type": "execute_result"
    }
   ],
   "source": [
    "# Check duplicate values\n",
    "df.duplicated().sum()"
   ]
  },
  {
   "cell_type": "markdown",
   "id": "823dab0c-d34a-49c5-ae9b-f46b3dc675a7",
   "metadata": {},
   "source": [
    "# EDA "
   ]
  },
  {
   "cell_type": "code",
   "execution_count": 12,
   "id": "5457b6ff-d987-4a0a-9005-3700a006e708",
   "metadata": {},
   "outputs": [
    {
     "data": {
      "text/plain": [
       "1      8651\n",
       "216     425\n",
       "215      80\n",
       "189      60\n",
       "214      60\n",
       "30       60\n",
       "148      40\n",
       "208      34\n",
       "14       24\n",
       "162      22\n",
       "94       21\n",
       "191      20\n",
       "166      20\n",
       "184      20\n",
       "37        4\n",
       "Name: Country Code, dtype: int64"
      ]
     },
     "execution_count": 12,
     "metadata": {},
     "output_type": "execute_result"
    }
   ],
   "source": [
    "df['Country Code'].value_counts()"
   ]
  },
  {
   "cell_type": "code",
   "execution_count": 11,
   "id": "f7d5b898-3745-46c6-b84c-4ae2c4ffd435",
   "metadata": {},
   "outputs": [
    {
     "data": {
      "text/plain": [
       "0        Jakarta\n",
       "1        Jakarta\n",
       "2        Jakarta\n",
       "3        Jakarta\n",
       "4        Jakarta\n",
       "          ...   \n",
       "9546    Dehradun\n",
       "9547      Kanpur\n",
       "9548      Kanpur\n",
       "9549    Varanasi\n",
       "9550    Varanasi\n",
       "Name: City, Length: 9541, dtype: object"
      ]
     },
     "execution_count": 11,
     "metadata": {},
     "output_type": "execute_result"
    }
   ],
   "source": [
    "# Identify Cities with Max & min number of rest.\n",
    "df['City']"
   ]
  },
  {
   "cell_type": "code",
   "execution_count": 14,
   "id": "893db85f-3ded-4a9e-b661-6475f5015328",
   "metadata": {},
   "outputs": [],
   "source": [
    "city_distribution=df['City'].value_counts() # sorted order"
   ]
  },
  {
   "cell_type": "code",
   "execution_count": 15,
   "id": "d3e6761b-c90d-432a-9ab6-fc0ac3417ba2",
   "metadata": {},
   "outputs": [
    {
     "name": "stdout",
     "output_type": "stream",
     "text": [
      "City with Maximum no of rest. is New Delhi\n",
      "City with min no of rest. is Penola\n"
     ]
    }
   ],
   "source": [
    "# print the names of city\n",
    "max_city=city_distribution.idxmax()\n",
    "min_city=city_distribution.idxmin()\n",
    "print('City with Maximum no of rest. is',max_city)\n",
    "print('City with min no of rest. is',min_city)"
   ]
  },
  {
   "cell_type": "code",
   "execution_count": 16,
   "id": "4d61eec2-b2d3-4d54-8075-5baeccd74266",
   "metadata": {},
   "outputs": [
    {
     "data": {
      "text/plain": [
       "Cafe Coffee Day         83\n",
       "Domino's Pizza          79\n",
       "Subway                  63\n",
       "Green Chick Chop        51\n",
       "McDonald's              48\n",
       "                        ..\n",
       "Mudrika Food Factory     1\n",
       "Kavita's Restaurant      1\n",
       "Sam and Scrooge          1\n",
       "Saheb's Restaurant       1\n",
       "VNS Live Studio          1\n",
       "Name: Restaurant Name, Length: 7436, dtype: int64"
      ]
     },
     "execution_count": 16,
     "metadata": {},
     "output_type": "execute_result"
    }
   ],
   "source": [
    "# Find Rest with most national presence\n",
    "fr_presence=df['Restaurant Name'].value_counts()\n",
    "fr_presence"
   ]
  },
  {
   "cell_type": "code",
   "execution_count": 17,
   "id": "b168db30-08ed-42e2-8ca0-c19b72b562dd",
   "metadata": {},
   "outputs": [
    {
     "name": "stdout",
     "output_type": "stream",
     "text": [
      "Max Presence Cafe Coffee Day\n"
     ]
    }
   ],
   "source": [
    "fr_city=fr_presence.idxmax()\n",
    "print('Max Presence',fr_city)"
   ]
  },
  {
   "cell_type": "code",
   "execution_count": 18,
   "id": "a25189c3-f84d-4fa0-8ffa-3814bfa8edbd",
   "metadata": {},
   "outputs": [
    {
     "data": {
      "text/plain": [
       "0       No\n",
       "1       No\n",
       "2       No\n",
       "3       No\n",
       "4       No\n",
       "        ..\n",
       "9546    No\n",
       "9547    No\n",
       "9548    No\n",
       "9549    No\n",
       "9550    No\n",
       "Name: Has Table booking, Length: 9541, dtype: object"
      ]
     },
     "execution_count": 18,
     "metadata": {},
     "output_type": "execute_result"
    }
   ],
   "source": [
    "# find out rest have table booking , ratio\n",
    "df['Has Table booking']"
   ]
  },
  {
   "cell_type": "code",
   "execution_count": 19,
   "id": "99aec5bd-ba4a-4be6-960b-8aab5ffc8158",
   "metadata": {},
   "outputs": [
    {
     "data": {
      "text/plain": [
       "No     8383\n",
       "Yes    1158\n",
       "Name: Has Table booking, dtype: int64"
      ]
     },
     "execution_count": 19,
     "metadata": {},
     "output_type": "execute_result"
    }
   ],
   "source": [
    "df['Has Table booking'].value_counts()"
   ]
  },
  {
   "cell_type": "code",
   "execution_count": 21,
   "id": "695bf9de-1c26-4b3e-9d87-b8d69b3262ef",
   "metadata": {},
   "outputs": [
    {
     "data": {
      "text/plain": [
       "No     87.862907\n",
       "Yes    12.137093\n",
       "Name: Has Table booking, dtype: float64"
      ]
     },
     "execution_count": 21,
     "metadata": {},
     "output_type": "execute_result"
    }
   ],
   "source": [
    "df['Has Table booking'].value_counts(normalize=True)*100"
   ]
  },
  {
   "cell_type": "code",
   "execution_count": 22,
   "id": "b8bb29bc-a52d-4f78-8819-9e3281291ff0",
   "metadata": {},
   "outputs": [
    {
     "data": {
      "image/png": "[encoded data removed]",
      "text/plain": [
       "<Figure size 432x288 with 1 Axes>"
      ]
     },
     "metadata": {
      "needs_background": "light"
     },
     "output_type": "display_data"
    }
   ],
   "source": [
    "table_booking_ratio=df['Has Table booking'].value_counts(normalize=True)*100\n",
    "table_booking_ratio.plot(kind='bar')\n",
    "plt.show()"
   ]
  },
  {
   "cell_type": "code",
   "execution_count": 23,
   "id": "c2e7673f-d631-49ad-b378-7eb709467d9b",
   "metadata": {},
   "outputs": [
    {
     "data": {
      "image/png": "[encoded data removed]",
      "text/plain": [
       "<Figure size 432x288 with 1 Axes>"
      ]
     },
     "metadata": {
      "needs_background": "light"
     },
     "output_type": "display_data"
    }
   ],
   "source": [
    "# providing online delivery, ratio\n",
    "online_ratio=df['Has Online delivery'].value_counts(normalize=True)*100\n",
    "online_ratio.plot(kind='bar')\n",
    "plt.show()"
   ]
  },
  {
   "cell_type": "code",
   "execution_count": 24,
   "id": "b6244f04-cda1-4645-ac0d-703f4eaf60ed",
   "metadata": {},
   "outputs": [
    {
     "data": {
      "text/plain": [
       "No     74.310869\n",
       "Yes    25.689131\n",
       "Name: Has Online delivery, dtype: float64"
      ]
     },
     "execution_count": 24,
     "metadata": {},
     "output_type": "execute_result"
    }
   ],
   "source": [
    "online_ratio"
   ]
  },
  {
   "cell_type": "code",
   "execution_count": 27,
   "id": "d7a13e12-2a4b-48e9-a4f4-e357ab0200d8",
   "metadata": {},
   "outputs": [
    {
     "data": {
      "text/plain": [
       "Has Online delivery\n",
       "No     977236\n",
       "Yes    517914\n",
       "Name: Votes, dtype: int64"
      ]
     },
     "execution_count": 27,
     "metadata": {},
     "output_type": "execute_result"
    }
   ],
   "source": [
    "# Compare votes those rest deliver online or not\n",
    "delivery_votes=df.groupby('Has Online delivery')['Votes'].sum()\n",
    "delivery_votes"
   ]
  },
  {
   "cell_type": "code",
   "execution_count": 29,
   "id": "89ee1305-6003-4c46-aa02-fceaa009566b",
   "metadata": {},
   "outputs": [
    {
     "data": {
      "text/plain": [
       "Has Online delivery\n",
       "No     137.833004\n",
       "Yes    211.307222\n",
       "Name: Votes, dtype: float64"
      ]
     },
     "execution_count": 29,
     "metadata": {},
     "output_type": "execute_result"
    }
   ],
   "source": [
    "delivery_votes=df.groupby('Has Online delivery')['Votes'].mean()\n",
    "delivery_votes"
   ]
  },
  {
   "cell_type": "code",
   "execution_count": 30,
   "id": "bac761a0-e6b5-44a4-b4eb-92e29a096933",
   "metadata": {},
   "outputs": [
    {
     "data": {
      "text/plain": [
       "73.47421731091595"
      ]
     },
     "execution_count": 30,
     "metadata": {},
     "output_type": "execute_result"
    }
   ],
   "source": [
    "vote_diff=delivery_votes['Yes']-delivery_votes['No']\n",
    "vote_diff"
   ]
  },
  {
   "cell_type": "code",
   "execution_count": 31,
   "id": "67bce983-1eee-43cd-ae2f-3f31d93c0a4e",
   "metadata": {},
   "outputs": [
    {
     "data": {
      "text/plain": [
       "0                                    Italian, Continental\n",
       "1                              Asian, Indonesian, Western\n",
       "2                                         Sushi, Japanese\n",
       "3                                                Japanese\n",
       "4                                         French, Western\n",
       "                              ...                        \n",
       "9546                     Chinese, North Indian, Fast Food\n",
       "9547                         Indian, Chinese, Continental\n",
       "9548    Cafe, Continental, Desserts, Ice Cream, Italia...\n",
       "9549                                          Street Food\n",
       "9550                                Chinese, North Indian\n",
       "Name: Cuisines, Length: 9541, dtype: object"
      ]
     },
     "execution_count": 31,
     "metadata": {},
     "output_type": "execute_result"
    }
   ],
   "source": [
    "# Find top 10 Cuisines\n",
    "df['Cuisines']"
   ]
  },
  {
   "cell_type": "code",
   "execution_count": 33,
   "id": "a98c8f1a-9024-4212-8ded-da10dcdee753",
   "metadata": {},
   "outputs": [
    {
     "data": {
      "text/plain": [
       "North Indian    3959\n",
       "Chinese         2735\n",
       "Fast Food       1986\n",
       "Mughlai          995\n",
       "Italian          763\n",
       "Bakery           745\n",
       "Continental      735\n",
       "Cafe             703\n",
       "Desserts         653\n",
       "South Indian     636\n",
       "dtype: int64"
      ]
     },
     "execution_count": 33,
     "metadata": {},
     "output_type": "execute_result"
    }
   ],
   "source": [
    "top_10_cuisines=df['Cuisines'].str.split(', ',expand=True).stack().value_counts()\n",
    "top_10_cuisines.head(10)"
   ]
  },
  {
   "cell_type": "code",
   "execution_count": 38,
   "id": "00850b6f-caf1-4c59-8c03-6bd1f61508f9",
   "metadata": {},
   "outputs": [
    {
     "data": {
      "text/plain": [
       "0       2\n",
       "1       3\n",
       "2       2\n",
       "3       1\n",
       "4       2\n",
       "       ..\n",
       "9546    3\n",
       "9547    3\n",
       "9548    6\n",
       "9549    1\n",
       "9550    2\n",
       "Name: Cuisines, Length: 9541, dtype: int64"
      ]
     },
     "execution_count": 38,
     "metadata": {},
     "output_type": "execute_result"
    }
   ],
   "source": [
    "# Rest wise number of cuisines\n",
    "rest_cuisines=df['Cuisines'].str.split(', ').apply(lambda x:len(x))\n",
    "rest_cuisines"
   ]
  },
  {
   "cell_type": "code",
   "execution_count": 39,
   "id": "394e4efa-1dc7-489a-a9d3-b15216f7e3d3",
   "metadata": {},
   "outputs": [
    {
     "data": {
      "text/plain": [
       "pandas.core.series.Series"
      ]
     },
     "execution_count": 39,
     "metadata": {},
     "output_type": "execute_result"
    }
   ],
   "source": [
    "type(rest_cuisines)"
   ]
  },
  {
   "cell_type": "code",
   "execution_count": 40,
   "id": "41cd1f5b-7a5a-4dd2-b6c3-32fa18c31238",
   "metadata": {},
   "outputs": [
    {
     "name": "stdout",
     "output_type": "stream",
     "text": [
      "Max number of cuisines served 8\n",
      "Min number of cuisines served 1\n"
     ]
    }
   ],
   "source": [
    "max_cuisines_served=rest_cuisines.max()\n",
    "min_cuisines_served=rest_cuisines.min()\n",
    "print('Max number of cuisines served',max_cuisines_served)\n",
    "print('Min number of cuisines served',min_cuisines_served)"
   ]
  },
  {
   "cell_type": "code",
   "execution_count": 42,
   "id": "b91b48ac-b1ab-4f34-ad4b-739c634e4bc5",
   "metadata": {},
   "outputs": [
    {
     "data": {
      "text/plain": [
       "City\n",
       "Abu Dhabi                   Indian\n",
       "Agra                  North Indian\n",
       "Ahmedabad              Continental\n",
       "Albany                       Steak\n",
       "Allahabad             North Indian\n",
       "                        ...       \n",
       "Weirton                     Burger\n",
       "Wellington City               Cafe\n",
       "Winchester Bay              Burger\n",
       "Yorkton                      Asian\n",
       "€¡stanbul          Restaurant Cafe\n",
       "Name: Cuisines, Length: 140, dtype: object"
      ]
     },
     "execution_count": 42,
     "metadata": {},
     "output_type": "execute_result"
    }
   ],
   "source": [
    "# city wise most served rest\n",
    "most_served_rest_city=df.groupby('City')['Cuisines'].apply(lambda x:x.str.split(', ').explode().value_counts().idxmax())\n",
    "most_served_rest_city"
   ]
  },
  {
   "cell_type": "code",
   "execution_count": 44,
   "id": "f03de90c-7c6c-4167-8787-fc8a67dc2a04",
   "metadata": {},
   "outputs": [
    {
     "data": {
      "text/plain": [
       "<AxesSubplot: >"
      ]
     },
     "execution_count": 44,
     "metadata": {},
     "output_type": "execute_result"
    },
    {
     "data": {
      "image/png": "[encoded data removed]",
      "text/plain": [
       "<Figure size 432x288 with 1 Axes>"
      ]
     },
     "metadata": {
      "needs_background": "light"
     },
     "output_type": "display_data"
    }
   ],
   "source": [
    "df['Average Cost for two'].hist()"
   ]
  },
  {
   "cell_type": "code",
   "execution_count": 46,
   "id": "14412694-56dc-40bc-b04e-c9c43117fdf5",
   "metadata": {},
   "outputs": [
    {
     "data": {
      "text/plain": [
       "<AxesSubplot: xlabel='Average Cost for two'>"
      ]
     },
     "execution_count": 46,
     "metadata": {},
     "output_type": "execute_result"
    },
    {
     "data": {
      "image/png": "[encoded data removed]",
      "text/plain": [
       "<Figure size 432x288 with 1 Axes>"
      ]
     },
     "metadata": {
      "needs_background": "light"
     },
     "output_type": "display_data"
    }
   ],
   "source": [
    "sns.boxplot(x=df['Average Cost for two'])"
   ]
  },
  {
   "cell_type": "code",
   "execution_count": 47,
   "id": "5b19ba5c-6b97-4adb-bde3-f30dbf4eabb3",
   "metadata": {},
   "outputs": [
    {
     "data": {
      "text/plain": [
       "count      9541.000000\n",
       "mean       1200.368096\n",
       "std       16129.588655\n",
       "min           0.000000\n",
       "25%         250.000000\n",
       "50%         400.000000\n",
       "75%         700.000000\n",
       "max      800000.000000\n",
       "Name: Average Cost for two, dtype: float64"
      ]
     },
     "execution_count": 47,
     "metadata": {},
     "output_type": "execute_result"
    }
   ],
   "source": [
    "# Cost distribution\n",
    "cost_distribution=df['Average Cost for two'].describe()\n",
    "cost_distribution"
   ]
  },
  {
   "cell_type": "code",
   "execution_count": 48,
   "id": "e9b8dbed-b4df-4382-af89-7c2971d8225c",
   "metadata": {},
   "outputs": [
    {
     "data": {
      "text/plain": [
       "0       4.1\n",
       "1       4.6\n",
       "2       4.9\n",
       "3       4.2\n",
       "4       4.3\n",
       "       ... \n",
       "9546    4.3\n",
       "9547    3.6\n",
       "9548    3.9\n",
       "9549    3.8\n",
       "9550    3.5\n",
       "Name: Aggregate rating, Length: 9541, dtype: float64"
      ]
     },
     "execution_count": 48,
     "metadata": {},
     "output_type": "execute_result"
    }
   ],
   "source": [
    "df['Average Cost for two']"
   ]
  },
  {
   "cell_type": "code",
   "execution_count": 49,
   "id": "fb3fd1c1-a253-429a-b5a0-c1ffcf57b2ac",
   "metadata": {},
   "outputs": [],
   "source": [
    "# Rating distribution \n",
    "rating_distribution=df.groupby('Aggregate rating').agg({'Price range':'mean','Votes':'mean',\n",
    "                                                        'Average Cost for two':'mean'}).sort_index()"
   ]
  },
  {
   "cell_type": "code",
   "execution_count": 52,
   "id": "270f5174-bd45-4c8d-ac0e-2b8cded3cc92",
   "metadata": {},
   "outputs": [
    {
     "data": {
      "text/html": [
       "<div>\n",
       "<style scoped>\n",
       "    .dataframe tbody tr th:only-of-type {\n",
       "        vertical-align: middle;\n",
       "    }\n",
       "\n",
       "    .dataframe tbody tr th {\n",
       "        vertical-align: top;\n",
       "    }\n",
       "\n",
       "    .dataframe thead th {\n",
       "        text-align: right;\n",
       "    }\n",
       "</style>\n",
       "<table border=\"1\" class=\"dataframe\">\n",
       "  <thead>\n",
       "    <tr style=\"text-align: right;\">\n",
       "      <th></th>\n",
       "      <th>Price range</th>\n",
       "      <th>Votes</th>\n",
       "      <th>Average Cost for two</th>\n",
       "    </tr>\n",
       "    <tr>\n",
       "      <th>Aggregate rating</th>\n",
       "      <th></th>\n",
       "      <th></th>\n",
       "      <th></th>\n",
       "    </tr>\n",
       "  </thead>\n",
       "  <tbody>\n",
       "    <tr>\n",
       "      <th>0.0</th>\n",
       "      <td>1.235102</td>\n",
       "      <td>0.870112</td>\n",
       "      <td>340.337523</td>\n",
       "    </tr>\n",
       "    <tr>\n",
       "      <th>1.8</th>\n",
       "      <td>3.000000</td>\n",
       "      <td>322.000000</td>\n",
       "      <td>1000.000000</td>\n",
       "    </tr>\n",
       "    <tr>\n",
       "      <th>1.9</th>\n",
       "      <td>1.500000</td>\n",
       "      <td>106.000000</td>\n",
       "      <td>375.000000</td>\n",
       "    </tr>\n",
       "    <tr>\n",
       "      <th>2.0</th>\n",
       "      <td>2.000000</td>\n",
       "      <td>129.714286</td>\n",
       "      <td>892.857143</td>\n",
       "    </tr>\n",
       "    <tr>\n",
       "      <th>2.1</th>\n",
       "      <td>1.733333</td>\n",
       "      <td>76.400000</td>\n",
       "      <td>633.333333</td>\n",
       "    </tr>\n",
       "    <tr>\n",
       "      <th>2.2</th>\n",
       "      <td>1.777778</td>\n",
       "      <td>94.962963</td>\n",
       "      <td>599.074074</td>\n",
       "    </tr>\n",
       "    <tr>\n",
       "      <th>2.3</th>\n",
       "      <td>1.787234</td>\n",
       "      <td>69.808511</td>\n",
       "      <td>565.957447</td>\n",
       "    </tr>\n",
       "    <tr>\n",
       "      <th>2.4</th>\n",
       "      <td>1.885057</td>\n",
       "      <td>97.011494</td>\n",
       "      <td>670.919540</td>\n",
       "    </tr>\n",
       "    <tr>\n",
       "      <th>2.5</th>\n",
       "      <td>1.827273</td>\n",
       "      <td>79.672727</td>\n",
       "      <td>622.272727</td>\n",
       "    </tr>\n",
       "    <tr>\n",
       "      <th>2.6</th>\n",
       "      <td>1.795812</td>\n",
       "      <td>53.921466</td>\n",
       "      <td>601.675393</td>\n",
       "    </tr>\n",
       "    <tr>\n",
       "      <th>2.7</th>\n",
       "      <td>1.628000</td>\n",
       "      <td>52.376000</td>\n",
       "      <td>546.800000</td>\n",
       "    </tr>\n",
       "    <tr>\n",
       "      <th>2.8</th>\n",
       "      <td>1.482540</td>\n",
       "      <td>31.755556</td>\n",
       "      <td>480.190476</td>\n",
       "    </tr>\n",
       "    <tr>\n",
       "      <th>2.9</th>\n",
       "      <td>1.406824</td>\n",
       "      <td>17.608924</td>\n",
       "      <td>450.446194</td>\n",
       "    </tr>\n",
       "    <tr>\n",
       "      <th>3.0</th>\n",
       "      <td>1.474359</td>\n",
       "      <td>20.153846</td>\n",
       "      <td>473.717949</td>\n",
       "    </tr>\n",
       "    <tr>\n",
       "      <th>3.1</th>\n",
       "      <td>1.531792</td>\n",
       "      <td>32.163776</td>\n",
       "      <td>490.414258</td>\n",
       "    </tr>\n",
       "    <tr>\n",
       "      <th>3.2</th>\n",
       "      <td>1.691571</td>\n",
       "      <td>45.103448</td>\n",
       "      <td>575.124521</td>\n",
       "    </tr>\n",
       "    <tr>\n",
       "      <th>3.3</th>\n",
       "      <td>1.749482</td>\n",
       "      <td>72.207039</td>\n",
       "      <td>608.664596</td>\n",
       "    </tr>\n",
       "    <tr>\n",
       "      <th>3.4</th>\n",
       "      <td>1.860606</td>\n",
       "      <td>94.569697</td>\n",
       "      <td>829.232323</td>\n",
       "    </tr>\n",
       "    <tr>\n",
       "      <th>3.5</th>\n",
       "      <td>1.966667</td>\n",
       "      <td>142.429167</td>\n",
       "      <td>726.270833</td>\n",
       "    </tr>\n",
       "    <tr>\n",
       "      <th>3.6</th>\n",
       "      <td>2.028384</td>\n",
       "      <td>165.120087</td>\n",
       "      <td>717.482533</td>\n",
       "    </tr>\n",
       "    <tr>\n",
       "      <th>3.7</th>\n",
       "      <td>2.128806</td>\n",
       "      <td>261.067916</td>\n",
       "      <td>1623.854801</td>\n",
       "    </tr>\n",
       "    <tr>\n",
       "      <th>3.8</th>\n",
       "      <td>2.293233</td>\n",
       "      <td>266.726817</td>\n",
       "      <td>794.721805</td>\n",
       "    </tr>\n",
       "    <tr>\n",
       "      <th>3.9</th>\n",
       "      <td>2.364458</td>\n",
       "      <td>358.334337</td>\n",
       "      <td>1524.894578</td>\n",
       "    </tr>\n",
       "    <tr>\n",
       "      <th>4.0</th>\n",
       "      <td>2.609023</td>\n",
       "      <td>405.560150</td>\n",
       "      <td>2256.484962</td>\n",
       "    </tr>\n",
       "    <tr>\n",
       "      <th>4.1</th>\n",
       "      <td>2.490842</td>\n",
       "      <td>465.721612</td>\n",
       "      <td>3680.054945</td>\n",
       "    </tr>\n",
       "    <tr>\n",
       "      <th>4.2</th>\n",
       "      <td>2.624434</td>\n",
       "      <td>518.303167</td>\n",
       "      <td>4664.072398</td>\n",
       "    </tr>\n",
       "    <tr>\n",
       "      <th>4.3</th>\n",
       "      <td>2.597701</td>\n",
       "      <td>673.367816</td>\n",
       "      <td>4430.718391</td>\n",
       "    </tr>\n",
       "    <tr>\n",
       "      <th>4.4</th>\n",
       "      <td>2.839161</td>\n",
       "      <td>649.762238</td>\n",
       "      <td>3003.636364</td>\n",
       "    </tr>\n",
       "    <tr>\n",
       "      <th>4.5</th>\n",
       "      <td>2.652632</td>\n",
       "      <td>716.157895</td>\n",
       "      <td>542.263158</td>\n",
       "    </tr>\n",
       "    <tr>\n",
       "      <th>4.6</th>\n",
       "      <td>2.756410</td>\n",
       "      <td>731.102564</td>\n",
       "      <td>15455.128205</td>\n",
       "    </tr>\n",
       "    <tr>\n",
       "      <th>4.7</th>\n",
       "      <td>2.902439</td>\n",
       "      <td>1098.487805</td>\n",
       "      <td>611.707317</td>\n",
       "    </tr>\n",
       "    <tr>\n",
       "      <th>4.8</th>\n",
       "      <td>3.240000</td>\n",
       "      <td>1197.880000</td>\n",
       "      <td>727.000000</td>\n",
       "    </tr>\n",
       "    <tr>\n",
       "      <th>4.9</th>\n",
       "      <td>2.885246</td>\n",
       "      <td>911.967213</td>\n",
       "      <td>18833.442623</td>\n",
       "    </tr>\n",
       "  </tbody>\n",
       "</table>\n",
       "</div>"
      ],
      "text/plain": [
       "                  Price range        Votes  Average Cost for two\n",
       "Aggregate rating                                                \n",
       "0.0                  1.235102     0.870112            340.337523\n",
       "1.8                  3.000000   322.000000           1000.000000\n",
       "1.9                  1.500000   106.000000            375.000000\n",
       "2.0                  2.000000   129.714286            892.857143\n",
       "2.1                  1.733333    76.400000            633.333333\n",
       "2.2                  1.777778    94.962963            599.074074\n",
       "2.3                  1.787234    69.808511            565.957447\n",
       "2.4                  1.885057    97.011494            670.919540\n",
       "2.5                  1.827273    79.672727            622.272727\n",
       "2.6                  1.795812    53.921466            601.675393\n",
       "2.7                  1.628000    52.376000            546.800000\n",
       "2.8                  1.482540    31.755556            480.190476\n",
       "2.9                  1.406824    17.608924            450.446194\n",
       "3.0                  1.474359    20.153846            473.717949\n",
       "3.1                  1.531792    32.163776            490.414258\n",
       "3.2                  1.691571    45.103448            575.124521\n",
       "3.3                  1.749482    72.207039            608.664596\n",
       "3.4                  1.860606    94.569697            829.232323\n",
       "3.5                  1.966667   142.429167            726.270833\n",
       "3.6                  2.028384   165.120087            717.482533\n",
       "3.7                  2.128806   261.067916           1623.854801\n",
       "3.8                  2.293233   266.726817            794.721805\n",
       "3.9                  2.364458   358.334337           1524.894578\n",
       "4.0                  2.609023   405.560150           2256.484962\n",
       "4.1                  2.490842   465.721612           3680.054945\n",
       "4.2                  2.624434   518.303167           4664.072398\n",
       "4.3                  2.597701   673.367816           4430.718391\n",
       "4.4                  2.839161   649.762238           3003.636364\n",
       "4.5                  2.652632   716.157895            542.263158\n",
       "4.6                  2.756410   731.102564          15455.128205\n",
       "4.7                  2.902439  1098.487805            611.707317\n",
       "4.8                  3.240000  1197.880000            727.000000\n",
       "4.9                  2.885246   911.967213          18833.442623"
      ]
     },
     "execution_count": 52,
     "metadata": {},
     "output_type": "execute_result"
    }
   ],
   "source": [
    "rating_distribution"
   ]
  },
  {
   "cell_type": "code",
   "execution_count": null,
   "id": "dcfbc25f-d36e-4b95-b0a7-1e5ecd4eac49",
   "metadata": {},
   "outputs": [],
   "source": []
  }
 ],
 "metadata": {
  "kernelspec": {
   "display_name": "Python 3 [3.10]",
   "language": "python",
   "name": "python3"
  },
  "language_info": {
   "codemirror_mode": {
    "name": "ipython",
    "version": 3
   },
   "file_extension": ".py",
   "mimetype": "text/x-python",
   "name": "python",
   "nbconvert_exporter": "python",
   "pygments_lexer": "ipython3",
   "version": "3.10.2"
  }
 },
 "nbformat": 4,
 "nbformat_minor": 5
}
